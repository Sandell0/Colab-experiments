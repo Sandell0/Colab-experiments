{
  "cells": [
    {
      "cell_type": "markdown",
      "metadata": {
        "id": "view-in-github",
        "colab_type": "text"
      },
      "source": [
        "<a href=\"https://colab.research.google.com/github/Sandell0/Colab-experiments/blob/master/Telegram_chatbot.ipynb\" target=\"_parent\"><img src=\"https://colab.research.google.com/assets/colab-badge.svg\" alt=\"Open In Colab\"/></a>"
      ]
    },
    {
      "cell_type": "code",
      "execution_count": null,
      "metadata": {
        "id": "PI2Tfgki2ywC"
      },
      "outputs": [],
      "source": [
        "%pip install transformers\n",
        "%pip install datasets"
      ]
    },
    {
      "cell_type": "code",
      "execution_count": null,
      "metadata": {
        "id": "u528wq2sDB6C"
      },
      "outputs": [],
      "source": [
        "import torch\n",
        "import tqdm\n",
        "from datasets import load_dataset\n",
        "from transformers import (\n",
        "    AutoModelForCausalLM,\n",
        "    AutoTokenizer,\n",
        "    BatchEncoding,\n",
        "    EarlyStoppingCallback,\n",
        "    Trainer,\n",
        "    TrainingArguments,\n",
        "    TrainerCallback\n",
        ")"
      ]
    },
    {
      "cell_type": "code",
      "execution_count": null,
      "metadata": {
        "id": "jPS8jt-8DB6D"
      },
      "outputs": [],
      "source": [
        "torch.cuda.empty_cache()\n",
        "\n",
        "tokenizer = AutoTokenizer.from_pretrained(\"sberbank-ai/rugpt3medium_based_on_gpt2\")\n",
        "tokenizer.pad_token = tokenizer.eos_token\n",
        "\n",
        "\n",
        "def tokenize_function(examples):\n",
        "    tokenized_text = tokenizer(\n",
        "        examples[\"text\"],\n",
        "        truncation=True,\n",
        "        padding=True,\n",
        "        max_length=512,\n",
        "    )\n",
        "    examples[\"input_ids\"] = tokenized_text[\"input_ids\"].copy()\n",
        "    examples[\"attention_mask\"] = tokenized_text[\"attention_mask\"].copy()\n",
        "    examples[\"labels\"] = tokenized_text[\"input_ids\"].copy()\n",
        "\n",
        "    return examples"
      ]
    },
    {
      "cell_type": "code",
      "execution_count": null,
      "metadata": {
        "id": "i0DXxu1yDB6D"
      },
      "outputs": [],
      "source": [
        "model = AutoModelForCausalLM.from_pretrained(\"/content/drive/MyDrive/Github/weights/\")\n",
        "\n",
        "prompts = [\n",
        "    \"Я\",\n",
        "]\n",
        "\n",
        "\n",
        "# encode prompt\n",
        "encoded_prompts = tokenizer(prompts, return_tensors=\"pt\")\n",
        "encoded_prompts = encoded_prompts.to('cuda:0')\n",
        "model = model.to('cuda:0')\n",
        "\n",
        "# generate text\n",
        "outputs = model.generate(\n",
        "    input_ids=encoded_prompts[\"input_ids\"],\n",
        "    attention_mask=encoded_prompts[\"attention_mask\"],\n",
        "    max_length=512,\n",
        ")\n",
        "\n",
        "print(tokenizer.decode(outputs[0]).replace('\\n',''))"
      ]
    },
    {
      "cell_type": "code",
      "execution_count": null,
      "metadata": {
        "id": "VoNdZIfB23dL"
      },
      "outputs": [],
      "source": [
        "\n",
        "data = load_dataset(\"text\", data_files=\"dataset.csv\")\n",
        "train_test = data[\"train\"].train_test_split(test_size=0.05, shuffle=False)\n",
        "\n",
        "for key in [\"train\", \"test\"]:\n",
        "    train_test[key] = train_test[key].map(tokenize_function)\n",
        "\n",
        "model = AutoModelForCausalLM.from_pretrained(\"sberbank-ai/rugpt3medium_based_on_gpt2\")\n",
        "\n",
        "training_args = TrainingArguments(\n",
        "    output_dir=\"./eu-chatbot\",  # The output directory\n",
        "    overwrite_output_dir=True,  # overwrite the content of the output directory\n",
        "    num_train_epochs=3,  # number of training epochs\n",
        "    per_device_train_batch_size=1,  # batch size for training\n",
        "    per_device_eval_batch_size=1,  # batch size for evaluation\n",
        "    eval_steps=1000,  # 400,  # Number of update steps between two evaluations.\n",
        "    save_steps=1000,  # after # steps model is saved\n",
        "    warmup_steps=500,  # number of warmup steps for learning rate scheduler\n",
        "    prediction_loss_only=True,\n",
        "    logging_strategy=\"steps\",\n",
        "    logging_steps=200,\n",
        "    save_total_limit=10,\n",
        "    evaluation_strategy=\"steps\",\n",
        "    load_best_model_at_end=True,\n",
        "    learning_rate=5e-6,\n",
        ")\n",
        "\n",
        "class MyCallback(TrainerCallback):\n",
        "    def on_log(self, args, state, control, **kwargs):\n",
        "      prompts = [\n",
        "          \"\",\n",
        "      ]\n",
        "\n",
        "\n",
        "      # encode prompt\n",
        "      encoded_prompts = tokenizer(prompts, return_tensors=\"pt\")\n",
        "\n",
        "      encoded_prompts = encoded_prompts.to('cuda:0')\n",
        "\n",
        "      # generate text\n",
        "      outputs = model.generate(\n",
        "          input_ids=encoded_prompts[\"input_ids\"],\n",
        "          attention_mask=encoded_prompts[\"attention_mask\"],\n",
        "          max_length=512,\n",
        "      )\n",
        "\n",
        "      print(tokenizer.decode(outputs[0]).replace('\\n',''))\n",
        "\n",
        "\n",
        "\n",
        "trainer = Trainer(\n",
        "    model=model,\n",
        "    args=training_args,\n",
        "    train_dataset=train_test[\"train\"],\n",
        "    eval_dataset=train_test[\"test\"],\n",
        "    callbacks=[EarlyStoppingCallback(early_stopping_patience=30), MyCallback],\n",
        ")\n",
        "\n",
        "trainer.train()\n",
        "trainer.save_model()"
      ]
    }
  ],
  "metadata": {
    "accelerator": "GPU",
    "colab": {
      "collapsed_sections": [],
      "machine_shape": "hm",
      "name": "Telegram chatbot.ipynb",
      "private_outputs": true,
      "provenance": [],
      "include_colab_link": true
    },
    "kernelspec": {
      "display_name": "Python 3",
      "language": "python",
      "name": "python3"
    },
    "language_info": {
      "codemirror_mode": {
        "name": "ipython",
        "version": 3
      },
      "file_extension": ".py",
      "mimetype": "text/x-python",
      "name": "python",
      "nbconvert_exporter": "python",
      "pygments_lexer": "ipython3",
      "version": "3.7.12"
    }
  },
  "nbformat": 4,
  "nbformat_minor": 0
}