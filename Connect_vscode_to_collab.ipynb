{
  "cells": [
    {
      "cell_type": "markdown",
      "metadata": {
        "id": "view-in-github",
        "colab_type": "text"
      },
      "source": [
        "<a href=\"https://colab.research.google.com/github/Sandell0/Colab-experiments/blob/master/Connect_vscode_to_collab.ipynb\" target=\"_parent\"><img src=\"https://colab.research.google.com/assets/colab-badge.svg\" alt=\"Open In Colab\"/></a>"
      ]
    },
    {
      "cell_type": "code",
      "execution_count": null,
      "metadata": {
        "id": "55wUXE8IpQ7u",
        "colab": {
          "base_uri": "https://localhost:8080/"
        },
        "outputId": "e35a3470-aecb-40b7-99c5-824d2b77baa5"
      },
      "outputs": [
        {
          "output_type": "stream",
          "name": "stdout",
          "text": [
            "\u001b[?25l\r\u001b[K     |▍                               | 10 kB 26.0 MB/s eta 0:00:01\r\u001b[K     |▉                               | 20 kB 32.3 MB/s eta 0:00:01\r\u001b[K     |█▎                              | 30 kB 14.9 MB/s eta 0:00:01\r\u001b[K     |█▊                              | 40 kB 11.0 MB/s eta 0:00:01\r\u001b[K     |██▏                             | 51 kB 7.6 MB/s eta 0:00:01\r\u001b[K     |██▋                             | 61 kB 7.9 MB/s eta 0:00:01\r\u001b[K     |███                             | 71 kB 7.4 MB/s eta 0:00:01\r\u001b[K     |███▌                            | 81 kB 8.2 MB/s eta 0:00:01\r\u001b[K     |████                            | 92 kB 6.6 MB/s eta 0:00:01\r\u001b[K     |████▍                           | 102 kB 7.2 MB/s eta 0:00:01\r\u001b[K     |████▉                           | 112 kB 7.2 MB/s eta 0:00:01\r\u001b[K     |█████▎                          | 122 kB 7.2 MB/s eta 0:00:01\r\u001b[K     |█████▊                          | 133 kB 7.2 MB/s eta 0:00:01\r\u001b[K     |██████▏                         | 143 kB 7.2 MB/s eta 0:00:01\r\u001b[K     |██████▋                         | 153 kB 7.2 MB/s eta 0:00:01\r\u001b[K     |███████                         | 163 kB 7.2 MB/s eta 0:00:01\r\u001b[K     |███████▌                        | 174 kB 7.2 MB/s eta 0:00:01\r\u001b[K     |████████                        | 184 kB 7.2 MB/s eta 0:00:01\r\u001b[K     |████████▍                       | 194 kB 7.2 MB/s eta 0:00:01\r\u001b[K     |████████▉                       | 204 kB 7.2 MB/s eta 0:00:01\r\u001b[K     |█████████▎                      | 215 kB 7.2 MB/s eta 0:00:01\r\u001b[K     |█████████▊                      | 225 kB 7.2 MB/s eta 0:00:01\r\u001b[K     |██████████▏                     | 235 kB 7.2 MB/s eta 0:00:01\r\u001b[K     |██████████▌                     | 245 kB 7.2 MB/s eta 0:00:01\r\u001b[K     |███████████                     | 256 kB 7.2 MB/s eta 0:00:01\r\u001b[K     |███████████▍                    | 266 kB 7.2 MB/s eta 0:00:01\r\u001b[K     |███████████▉                    | 276 kB 7.2 MB/s eta 0:00:01\r\u001b[K     |████████████▎                   | 286 kB 7.2 MB/s eta 0:00:01\r\u001b[K     |████████████▊                   | 296 kB 7.2 MB/s eta 0:00:01\r\u001b[K     |█████████████▏                  | 307 kB 7.2 MB/s eta 0:00:01\r\u001b[K     |█████████████▋                  | 317 kB 7.2 MB/s eta 0:00:01\r\u001b[K     |██████████████                  | 327 kB 7.2 MB/s eta 0:00:01\r\u001b[K     |██████████████▌                 | 337 kB 7.2 MB/s eta 0:00:01\r\u001b[K     |███████████████                 | 348 kB 7.2 MB/s eta 0:00:01\r\u001b[K     |███████████████▍                | 358 kB 7.2 MB/s eta 0:00:01\r\u001b[K     |███████████████▉                | 368 kB 7.2 MB/s eta 0:00:01\r\u001b[K     |████████████████▎               | 378 kB 7.2 MB/s eta 0:00:01\r\u001b[K     |████████████████▊               | 389 kB 7.2 MB/s eta 0:00:01\r\u001b[K     |█████████████████▏              | 399 kB 7.2 MB/s eta 0:00:01\r\u001b[K     |█████████████████▋              | 409 kB 7.2 MB/s eta 0:00:01\r\u001b[K     |██████████████████              | 419 kB 7.2 MB/s eta 0:00:01\r\u001b[K     |██████████████████▌             | 430 kB 7.2 MB/s eta 0:00:01\r\u001b[K     |███████████████████             | 440 kB 7.2 MB/s eta 0:00:01\r\u001b[K     |███████████████████▍            | 450 kB 7.2 MB/s eta 0:00:01\r\u001b[K     |███████████████████▉            | 460 kB 7.2 MB/s eta 0:00:01\r\u001b[K     |████████████████████▎           | 471 kB 7.2 MB/s eta 0:00:01\r\u001b[K     |████████████████████▋           | 481 kB 7.2 MB/s eta 0:00:01\r\u001b[K     |█████████████████████           | 491 kB 7.2 MB/s eta 0:00:01\r\u001b[K     |█████████████████████▌          | 501 kB 7.2 MB/s eta 0:00:01\r\u001b[K     |██████████████████████          | 512 kB 7.2 MB/s eta 0:00:01\r\u001b[K     |██████████████████████▍         | 522 kB 7.2 MB/s eta 0:00:01\r\u001b[K     |██████████████████████▉         | 532 kB 7.2 MB/s eta 0:00:01\r\u001b[K     |███████████████████████▎        | 542 kB 7.2 MB/s eta 0:00:01\r\u001b[K     |███████████████████████▊        | 552 kB 7.2 MB/s eta 0:00:01\r\u001b[K     |████████████████████████▏       | 563 kB 7.2 MB/s eta 0:00:01\r\u001b[K     |████████████████████████▋       | 573 kB 7.2 MB/s eta 0:00:01\r\u001b[K     |█████████████████████████       | 583 kB 7.2 MB/s eta 0:00:01\r\u001b[K     |█████████████████████████▌      | 593 kB 7.2 MB/s eta 0:00:01\r\u001b[K     |██████████████████████████      | 604 kB 7.2 MB/s eta 0:00:01\r\u001b[K     |██████████████████████████▍     | 614 kB 7.2 MB/s eta 0:00:01\r\u001b[K     |██████████████████████████▉     | 624 kB 7.2 MB/s eta 0:00:01\r\u001b[K     |███████████████████████████▎    | 634 kB 7.2 MB/s eta 0:00:01\r\u001b[K     |███████████████████████████▊    | 645 kB 7.2 MB/s eta 0:00:01\r\u001b[K     |████████████████████████████▏   | 655 kB 7.2 MB/s eta 0:00:01\r\u001b[K     |████████████████████████████▋   | 665 kB 7.2 MB/s eta 0:00:01\r\u001b[K     |█████████████████████████████   | 675 kB 7.2 MB/s eta 0:00:01\r\u001b[K     |█████████████████████████████▌  | 686 kB 7.2 MB/s eta 0:00:01\r\u001b[K     |██████████████████████████████  | 696 kB 7.2 MB/s eta 0:00:01\r\u001b[K     |██████████████████████████████▍ | 706 kB 7.2 MB/s eta 0:00:01\r\u001b[K     |██████████████████████████████▊ | 716 kB 7.2 MB/s eta 0:00:01\r\u001b[K     |███████████████████████████████▏| 727 kB 7.2 MB/s eta 0:00:01\r\u001b[K     |███████████████████████████████▋| 737 kB 7.2 MB/s eta 0:00:01\r\u001b[K     |████████████████████████████████| 745 kB 7.2 MB/s \n",
            "\u001b[?25h  Building wheel for pyngrok (setup.py) ... \u001b[?25l\u001b[?25hdone\n",
            "^C\n",
            "Copy authtoken from https://dashboard.ngrok.com/auth\n"
          ]
        }
      ],
      "source": [
        "import random, string\n",
        "password = ''.join(random.choice(string.ascii_letters + string.digits) for i in range(64))\n",
        "\n",
        "# install pyngrok for opening a tunnel\n",
        "!pip install pyngrok -q\n",
        "#Setup sshd\n",
        "! apt-get install -qq -o=Dpkg::Use-Pty=0 openssh-server pwgen > /dev/null\n",
        "\n",
        "#Set root password\n",
        "! echo root:$password | chpasswd\n",
        "! mkdir -p /var/run/sshd\n",
        "! echo \"PermitRootLogin yes\" >> /etc/ssh/sshd_config\n",
        "! echo \"PasswordAuthentication yes\" >> /etc/ssh/sshd_config\n",
        "! echo \"LD_LIBRARY_PATH=/usr/lib64-nvidia\" >> /root/.bashrc\n",
        "! echo \"export LD_LIBRARY_PATH\" >> /root/.bashrc\n",
        "\n",
        "#Run sshd\n",
        "get_ipython().system_raw('/usr/sbin/sshd -D &')\n",
        "\n",
        "#Ask token\n",
        "print(\"Copy authtoken from https://dashboard.ngrok.com/auth\")\n",
        "import getpass\n",
        "authtoken = getpass.getpass()\n",
        "\n",
        "#Create tunnel\n",
        "from pyngrok import ngrok\n",
        "ngrok.set_auth_token(authtoken)\n",
        "print(ngrok.connect(22, \"tcp\"))\n",
        "!whoami\n",
        "print(\"Password: {}\".format(password))\n",
        "\n"
      ]
    }
  ],
  "metadata": {
    "colab": {
      "name": "Connect vscode to collab.ipynb",
      "provenance": [],
      "collapsed_sections": [],
      "include_colab_link": true
    },
    "kernelspec": {
      "display_name": "Python 3",
      "name": "python3"
    },
    "language_info": {
      "name": "python"
    }
  },
  "nbformat": 4,
  "nbformat_minor": 0
}