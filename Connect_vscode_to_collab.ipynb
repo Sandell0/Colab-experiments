{
  "cells": [
    {
      "cell_type": "markdown",
      "metadata": {
        "id": "view-in-github",
        "colab_type": "text"
      },
      "source": [
        "<a href=\"https://colab.research.google.com/github/Sandell0/Colab-experiments/blob/master/Connect_vscode_to_collab.ipynb\" target=\"_parent\"><img src=\"https://colab.research.google.com/assets/colab-badge.svg\" alt=\"Open In Colab\"/></a>"
      ]
    },
    {
      "cell_type": "code",
      "source": [
        "from google.colab import drive\n",
        "drive.mount('/content/drive')"
      ],
      "metadata": {
        "colab": {
          "base_uri": "https://localhost:8080/"
        },
        "id": "0rD3zz35OewD",
        "outputId": "46107d08-0160-494a-ed6e-c235b6e2972d"
      },
      "execution_count": 1,
      "outputs": [
        {
          "output_type": "stream",
          "name": "stdout",
          "text": [
            "Mounted at /content/drive\n"
          ]
        }
      ]
    },
    {
      "cell_type": "code",
      "execution_count": 2,
      "metadata": {
        "id": "55wUXE8IpQ7u",
        "colab": {
          "base_uri": "https://localhost:8080/"
        },
        "outputId": "51e10dbb-704a-43e3-e7ee-d5481e011918"
      },
      "outputs": [
        {
          "output_type": "stream",
          "name": "stdout",
          "text": [
            "\u001b[?25l\r\u001b[K     |▍                               | 10 kB 23.1 MB/s eta 0:00:01\r\u001b[K     |▉                               | 20 kB 24.8 MB/s eta 0:00:01\r\u001b[K     |█▎                              | 30 kB 30.4 MB/s eta 0:00:01\r\u001b[K     |█▊                              | 40 kB 34.6 MB/s eta 0:00:01\r\u001b[K     |██▏                             | 51 kB 29.5 MB/s eta 0:00:01\r\u001b[K     |██▋                             | 61 kB 27.6 MB/s eta 0:00:01\r\u001b[K     |███                             | 71 kB 22.7 MB/s eta 0:00:01\r\u001b[K     |███▌                            | 81 kB 24.4 MB/s eta 0:00:01\r\u001b[K     |████                            | 92 kB 26.3 MB/s eta 0:00:01\r\u001b[K     |████▍                           | 102 kB 22.6 MB/s eta 0:00:01\r\u001b[K     |████▉                           | 112 kB 22.6 MB/s eta 0:00:01\r\u001b[K     |█████▎                          | 122 kB 22.6 MB/s eta 0:00:01\r\u001b[K     |█████▊                          | 133 kB 22.6 MB/s eta 0:00:01\r\u001b[K     |██████▏                         | 143 kB 22.6 MB/s eta 0:00:01\r\u001b[K     |██████▋                         | 153 kB 22.6 MB/s eta 0:00:01\r\u001b[K     |███████                         | 163 kB 22.6 MB/s eta 0:00:01\r\u001b[K     |███████▌                        | 174 kB 22.6 MB/s eta 0:00:01\r\u001b[K     |████████                        | 184 kB 22.6 MB/s eta 0:00:01\r\u001b[K     |████████▍                       | 194 kB 22.6 MB/s eta 0:00:01\r\u001b[K     |████████▉                       | 204 kB 22.6 MB/s eta 0:00:01\r\u001b[K     |█████████▎                      | 215 kB 22.6 MB/s eta 0:00:01\r\u001b[K     |█████████▊                      | 225 kB 22.6 MB/s eta 0:00:01\r\u001b[K     |██████████▏                     | 235 kB 22.6 MB/s eta 0:00:01\r\u001b[K     |██████████▌                     | 245 kB 22.6 MB/s eta 0:00:01\r\u001b[K     |███████████                     | 256 kB 22.6 MB/s eta 0:00:01\r\u001b[K     |███████████▍                    | 266 kB 22.6 MB/s eta 0:00:01\r\u001b[K     |███████████▉                    | 276 kB 22.6 MB/s eta 0:00:01\r\u001b[K     |████████████▎                   | 286 kB 22.6 MB/s eta 0:00:01\r\u001b[K     |████████████▊                   | 296 kB 22.6 MB/s eta 0:00:01\r\u001b[K     |█████████████▏                  | 307 kB 22.6 MB/s eta 0:00:01\r\u001b[K     |█████████████▋                  | 317 kB 22.6 MB/s eta 0:00:01\r\u001b[K     |██████████████                  | 327 kB 22.6 MB/s eta 0:00:01\r\u001b[K     |██████████████▌                 | 337 kB 22.6 MB/s eta 0:00:01\r\u001b[K     |███████████████                 | 348 kB 22.6 MB/s eta 0:00:01\r\u001b[K     |███████████████▍                | 358 kB 22.6 MB/s eta 0:00:01\r\u001b[K     |███████████████▉                | 368 kB 22.6 MB/s eta 0:00:01\r\u001b[K     |████████████████▎               | 378 kB 22.6 MB/s eta 0:00:01\r\u001b[K     |████████████████▊               | 389 kB 22.6 MB/s eta 0:00:01\r\u001b[K     |█████████████████▏              | 399 kB 22.6 MB/s eta 0:00:01\r\u001b[K     |█████████████████▋              | 409 kB 22.6 MB/s eta 0:00:01\r\u001b[K     |██████████████████              | 419 kB 22.6 MB/s eta 0:00:01\r\u001b[K     |██████████████████▌             | 430 kB 22.6 MB/s eta 0:00:01\r\u001b[K     |███████████████████             | 440 kB 22.6 MB/s eta 0:00:01\r\u001b[K     |███████████████████▍            | 450 kB 22.6 MB/s eta 0:00:01\r\u001b[K     |███████████████████▉            | 460 kB 22.6 MB/s eta 0:00:01\r\u001b[K     |████████████████████▎           | 471 kB 22.6 MB/s eta 0:00:01\r\u001b[K     |████████████████████▋           | 481 kB 22.6 MB/s eta 0:00:01\r\u001b[K     |█████████████████████           | 491 kB 22.6 MB/s eta 0:00:01\r\u001b[K     |█████████████████████▌          | 501 kB 22.6 MB/s eta 0:00:01\r\u001b[K     |██████████████████████          | 512 kB 22.6 MB/s eta 0:00:01\r\u001b[K     |██████████████████████▍         | 522 kB 22.6 MB/s eta 0:00:01\r\u001b[K     |██████████████████████▉         | 532 kB 22.6 MB/s eta 0:00:01\r\u001b[K     |███████████████████████▎        | 542 kB 22.6 MB/s eta 0:00:01\r\u001b[K     |███████████████████████▊        | 552 kB 22.6 MB/s eta 0:00:01\r\u001b[K     |████████████████████████▏       | 563 kB 22.6 MB/s eta 0:00:01\r\u001b[K     |████████████████████████▋       | 573 kB 22.6 MB/s eta 0:00:01\r\u001b[K     |█████████████████████████       | 583 kB 22.6 MB/s eta 0:00:01\r\u001b[K     |█████████████████████████▌      | 593 kB 22.6 MB/s eta 0:00:01\r\u001b[K     |██████████████████████████      | 604 kB 22.6 MB/s eta 0:00:01\r\u001b[K     |██████████████████████████▍     | 614 kB 22.6 MB/s eta 0:00:01\r\u001b[K     |██████████████████████████▉     | 624 kB 22.6 MB/s eta 0:00:01\r\u001b[K     |███████████████████████████▎    | 634 kB 22.6 MB/s eta 0:00:01\r\u001b[K     |███████████████████████████▊    | 645 kB 22.6 MB/s eta 0:00:01\r\u001b[K     |████████████████████████████▏   | 655 kB 22.6 MB/s eta 0:00:01\r\u001b[K     |████████████████████████████▋   | 665 kB 22.6 MB/s eta 0:00:01\r\u001b[K     |█████████████████████████████   | 675 kB 22.6 MB/s eta 0:00:01\r\u001b[K     |█████████████████████████████▌  | 686 kB 22.6 MB/s eta 0:00:01\r\u001b[K     |██████████████████████████████  | 696 kB 22.6 MB/s eta 0:00:01\r\u001b[K     |██████████████████████████████▍ | 706 kB 22.6 MB/s eta 0:00:01\r\u001b[K     |██████████████████████████████▊ | 716 kB 22.6 MB/s eta 0:00:01\r\u001b[K     |███████████████████████████████▏| 727 kB 22.6 MB/s eta 0:00:01\r\u001b[K     |███████████████████████████████▋| 737 kB 22.6 MB/s eta 0:00:01\r\u001b[K     |████████████████████████████████| 745 kB 22.6 MB/s \n",
            "\u001b[?25h  Building wheel for pyngrok (setup.py) ... \u001b[?25l\u001b[?25hdone\n",
            "\n",
            "Creating config file /etc/ssh/sshd_config with new version\n",
            "Creating SSH2 RSA key; this may take some time ...\n",
            "2048 SHA256:+4m0Pwl8ef8uUOKR7ucNb80+ZKdjRZZLRTmupa4pXfE root@e4f79c1bf4f0 (RSA)\n",
            "Creating SSH2 ECDSA key; this may take some time ...\n",
            "256 SHA256:RJlyvJAi0pg0f2Ga02pjj/Gd3UbwTMC77eWkg5RVLZw root@e4f79c1bf4f0 (ECDSA)\n",
            "Creating SSH2 ED25519 key; this may take some time ...\n",
            "256 SHA256:EsD1c49y78iq+HHUFr4Stf02gBYRRYY4CRS0EUMFpLg root@e4f79c1bf4f0 (ED25519)\n",
            "Created symlink /etc/systemd/system/sshd.service → /lib/systemd/system/ssh.service.\n",
            "Created symlink /etc/systemd/system/multi-user.target.wants/ssh.service → /lib/systemd/system/ssh.service.\n",
            "invoke-rc.d: could not determine current runlevel\n",
            "invoke-rc.d: policy-rc.d denied execution of start.\n",
            "Copy authtoken from https://dashboard.ngrok.com/auth\n",
            "··········\n",
            "NgrokTunnel: \"tcp://2.tcp.ngrok.io:10155\" -> \"localhost:22\"\n",
            "root\n",
            "Password: zhvLNO6fxzXC3ZwumAcv8kCtWd5P2V99flTPRwvgHjpR5hRHAVpFeCEeWNGiTRr7\n"
          ]
        }
      ],
      "source": [
        "import random, string\n",
        "password = ''.join(random.choice(string.ascii_letters + string.digits) for i in range(64))\n",
        "\n",
        "# install pyngrok for opening a tunnel\n",
        "!pip install pyngrok -q\n",
        "#Setup sshd\n",
        "! apt-get install -qq -o=Dpkg::Use-Pty=0 openssh-server pwgen > /dev/null\n",
        "\n",
        "#Set root password\n",
        "! echo root:$password | chpasswd\n",
        "! mkdir -p /var/run/sshd\n",
        "! echo \"PermitRootLogin yes\" >> /etc/ssh/sshd_config\n",
        "! echo \"PasswordAuthentication yes\" >> /etc/ssh/sshd_config\n",
        "! echo \"LD_LIBRARY_PATH=/usr/lib64-nvidia\" >> /root/.bashrc\n",
        "! echo \"export LD_LIBRARY_PATH\" >> /root/.bashrc\n",
        "\n",
        "#Run sshd\n",
        "get_ipython().system_raw('/usr/sbin/sshd -D &')\n",
        "\n",
        "#Ask token\n",
        "print(\"Copy authtoken from https://dashboard.ngrok.com/auth\")\n",
        "import getpass\n",
        "authtoken = getpass.getpass()\n",
        "\n",
        "#Create tunnel\n",
        "from pyngrok import ngrok\n",
        "ngrok.set_auth_token(authtoken)\n",
        "print(ngrok.connect(22, \"tcp\"))\n",
        "!whoami\n",
        "print(\"Password: {}\".format(password))\n",
        "\n"
      ]
    },
    {
      "cell_type": "code",
      "source": [
        "#root@2.tcp.ngrok.io:10155\n",
        "#open content drive"
      ],
      "metadata": {
        "id": "Ze1C_xDBQd4G"
      },
      "execution_count": 4,
      "outputs": []
    },
    {
      "cell_type": "code",
      "source": [
        ""
      ],
      "metadata": {
        "id": "WVN0pEqIRjOy"
      },
      "execution_count": null,
      "outputs": []
    }
  ],
  "metadata": {
    "colab": {
      "name": "Connect vscode to collab.ipynb",
      "provenance": [],
      "collapsed_sections": [],
      "include_colab_link": true
    },
    "kernelspec": {
      "display_name": "Python 3",
      "name": "python3"
    },
    "language_info": {
      "name": "python"
    }
  },
  "nbformat": 4,
  "nbformat_minor": 0
}