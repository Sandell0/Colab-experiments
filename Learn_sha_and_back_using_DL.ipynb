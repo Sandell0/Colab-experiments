{
  "cells": [
    {
      "cell_type": "markdown",
      "metadata": {
        "id": "view-in-github",
        "colab_type": "text"
      },
      "source": [
        "<a href=\"https://colab.research.google.com/github/Sandell0/Colab-experiments/blob/master/Learn_sha_and_back_using_DL.ipynb\" target=\"_parent\"><img src=\"https://colab.research.google.com/assets/colab-badge.svg\" alt=\"Open In Colab\"/></a>"
      ]
    },
    {
      "cell_type": "code",
      "source": [
        "!export WANDB_PROJECT=\"sha_hacker\"\n",
        "WANDB_PROJECT=\"sha_hacker\""
      ],
      "metadata": {
        "id": "6NnlvskIHA1v"
      },
      "execution_count": null,
      "outputs": []
    },
    {
      "cell_type": "code",
      "source": [
        "%pip install transformers\n",
        "%pip install datasets\n",
        "%pip install wandb"
      ],
      "metadata": {
        "id": "fuag_e4mHsD4"
      },
      "execution_count": null,
      "outputs": []
    },
    {
      "cell_type": "code",
      "source": [
        "import torch\n",
        "import tqdm\n",
        "from datasets import load_dataset, Dataset\n",
        "from transformers import (\n",
        "    EncoderDecoderModel,\n",
        "    AutoTokenizer,\n",
        "    BatchEncoding,\n",
        "    EarlyStoppingCallback,\n",
        "    Trainer,\n",
        "    TrainingArguments,\n",
        "    TrainerCallback,\n",
        "    T5ForConditionalGeneration\n",
        ")\n",
        "import random\n",
        "import string\n",
        "import hashlib"
      ],
      "metadata": {
        "id": "ZyLhgYFhHLlg"
      },
      "execution_count": null,
      "outputs": []
    },
    {
      "cell_type": "code",
      "source": [
        "import transformers\n",
        "transformers.utils.logging.set_verbosity_warning()"
      ],
      "metadata": {
        "id": "ZqyyNgsHNDjx"
      },
      "execution_count": null,
      "outputs": []
    },
    {
      "cell_type": "code",
      "execution_count": null,
      "metadata": {
        "id": "G-MkHTQpHcZ2"
      },
      "outputs": [],
      "source": [
        "string_size=64\n",
        "str1 = \"1\" * string_size\n",
        "result = hashlib.sha1(str1.encode())\n",
        "print(bin(int(result.hexdigest(),16))[2:].zfill(256))"
      ]
    },
    {
      "cell_type": "code",
      "execution_count": null,
      "metadata": {
        "id": "exGR1yFZMj1W"
      },
      "outputs": [],
      "source": [
        "my_dict = {\"text\":[],\"code\":[]}\n",
        "for i in range(3):\n",
        "  custom_string = ''.join(random.choice(string.printable) for _ in range(string_size))\n",
        "  my_dict[\"text\"].append(custom_string)\n",
        "  my_dict[\"code\"].append(bin(int(hashlib.sha256(custom_string.encode()).hexdigest(),16))[2:].zfill(256))\n"
      ]
    },
    {
      "cell_type": "code",
      "execution_count": null,
      "metadata": {
        "id": "yAVo-YN4RXW1"
      },
      "outputs": [],
      "source": [
        "data = Dataset.from_dict(my_dict)"
      ]
    },
    {
      "cell_type": "code",
      "source": [
        "tokenizer = AutoTokenizer.from_pretrained(\"google/byt5-base\")\n",
        "\n",
        "def tokenize_function(examples):\n",
        "    tokenized_text = tokenizer(\n",
        "        examples[\"text\"],\n",
        "        padding=\"longest\",\n",
        "        max_length=256,\n",
        "    )\n",
        "    tokenized_code = tokenizer(\n",
        "        examples[\"code\"],\n",
        "        padding=\"longest\",\n",
        "        max_length=256,\n",
        "    )\n",
        "\n",
        "    examples[\"input_ids\"] = tokenized_code[\"input_ids\"].copy()\n",
        "    examples[\"labels\"] = tokenized_text[\"input_ids\"].copy()\n",
        "\n",
        "    return examples"
      ],
      "metadata": {
        "id": "rdxSC6pjH6cC"
      },
      "execution_count": null,
      "outputs": []
    },
    {
      "cell_type": "code",
      "execution_count": null,
      "metadata": {
        "id": "hIFeK2qwKcJb"
      },
      "outputs": [],
      "source": [
        "torch.cuda.empty_cache()\n",
        "\n",
        "class MyCallback(TrainerCallback):\n",
        "    def on_evaluate(self, args, state, control, **kwargs):\n",
        "      prompts = [\n",
        "          \"0000000000000000000000000000000000000000000000000000000000000000000000000000000000000000000000000000011110100001101001010000101001100010011100111110011010111100001011101011100101001101011001000111100000010000110011011100010110110010011101011011100100100100\",\n",
        "      ]\n",
        "\n",
        "\n",
        "      # encode prompt\n",
        "      encoded_prompts = tokenizer(prompts, return_tensors=\"pt\")\n",
        "\n",
        "      encoded_prompts = encoded_prompts.to('cuda:0')\n",
        "\n",
        "      # generate text\n",
        "      outputs = model.generate(\n",
        "          input_ids=encoded_prompts[\"input_ids\"],\n",
        "          max_length=256,\n",
        "      )\n",
        "\n",
        "      print(tokenizer.decode(outputs[0]).replace('\\n',''))\n",
        "\n",
        "\n",
        "train_test = data.train_test_split(test_size=0.001, shuffle=False)\n",
        "\n",
        "for key in [\"train\", \"test\"]:\n",
        "    train_test[key] = train_test[key].map(tokenize_function)\n",
        "    print(len(train_test[key]), key)\n",
        "model = T5ForConditionalGeneration.from_pretrained('google/byt5-base') # initialize Bert2Bert from pre-trained checkpoints\n",
        "\n",
        "\n",
        "training_args = TrainingArguments(\n",
        "    output_dir=\"./sha-hacker\",  # The output directory\n",
        "    overwrite_output_dir=True,  # overwrite the content of the output directory\n",
        "    num_train_epochs=3000,  # number of training epochs\n",
        "    per_device_train_batch_size=2,  # batch size for training\n",
        "    per_device_eval_batch_size=1,  # batch size for evaluation\n",
        "    eval_steps=200,  # Number of update steps between two evaluations.\n",
        "    save_steps=1000,  # after # steps model is saved\n",
        "    warmup_steps=500,  # number of warmup steps for learning rate scheduler\n",
        "    prediction_loss_only=True,\n",
        "    logging_strategy=\"steps\",\n",
        "    logging_steps=200,\n",
        "    save_total_limit=10,\n",
        "    evaluation_strategy=\"steps\",\n",
        "    load_best_model_at_end=True,\n",
        "    learning_rate=1e-4,\n",
        "    weight_decay=0.05,\n",
        "    report_to=\"wandb\"\n",
        ")\n",
        "\n",
        "trainer = Trainer(\n",
        "    model=model,\n",
        "    args=training_args,\n",
        "    train_dataset=train_test[\"train\"],\n",
        "    eval_dataset=train_test[\"test\"],\n",
        "    callbacks=[MyCallback],\n",
        ")\n",
        "print(train_test[\"train\"][0])\n",
        "\n",
        "trainer.train()\n",
        "trainer.save_model()"
      ]
    },
    {
      "cell_type": "code",
      "source": [
        ""
      ],
      "metadata": {
        "id": "84Zx_hI7PUtq"
      },
      "execution_count": null,
      "outputs": []
    }
  ],
  "metadata": {
    "accelerator": "GPU",
    "colab": {
      "collapsed_sections": [],
      "machine_shape": "hm",
      "name": "Learn sha and back using DL.ipynb",
      "provenance": [],
      "private_outputs": true,
      "include_colab_link": true
    },
    "kernelspec": {
      "display_name": "Python 3",
      "name": "python3"
    },
    "language_info": {
      "codemirror_mode": {
        "name": "ipython",
        "version": 3
      },
      "file_extension": ".py",
      "mimetype": "text/x-python",
      "name": "python",
      "nbconvert_exporter": "python",
      "pygments_lexer": "ipython3",
      "version": "3.7.12"
    }
  },
  "nbformat": 4,
  "nbformat_minor": 0
}